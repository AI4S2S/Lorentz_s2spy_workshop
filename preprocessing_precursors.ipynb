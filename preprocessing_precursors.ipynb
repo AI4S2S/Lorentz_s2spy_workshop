{
 "cells": [
  {
   "cell_type": "code",
   "execution_count": null,
   "id": "dc838fe0-6ebc-441b-97dc-2c4be8d7516e",
   "metadata": {},
   "outputs": [
    {
     "name": "stdout",
     "output_type": "stream",
     "text": [
      "applying rolling mean, beware: memory intensive\n"
     ]
    }
   ],
   "source": [
    "import os\n",
    "import preprocessing as pp\n",
    "import utils\n",
    "\n",
    "path_obs_data = '~/data/volume_2/observational/'\n",
    "all_infiles = ['era5_sst_1959-2021_1_12_daily_2.0deg.nc',\n",
    "               'en4_salinity_5m_1950-2021_1_12_monthly_1.0deg.nc',\n",
    "               'era5_olr_1950_2021_daily_1deg_tropics.nc',\n",
    "               'era5_t_850hpa_1959-2021_1_12_daily_2.0deg.nc',\n",
    "               'era5_t2m_1959-2021_1_12_daily_2.0deg.nc',\n",
    "               'era5_z_200hpa_500hpa_1959-2021_1_12_daily_2.0deg.nc',\n",
    "               'gleam_E_1980-2021_daily_1.0deg_65S-65N.nc',\n",
    "               'gleam_smsurface_1980-2021_daily_1.0deg_65S-65N.nc',\n",
    "               'gleam_SMroot_1980-2021_daily_1.0deg_65S-65N.nc']\n",
    "\n",
    "i_file = 4\n",
    "infile = os.path.join(path_obs_data, 'raw', all_infiles[i_file])\n",
    "print(infile)\n",
    "\n",
    "outfile = os.path.join(path_obs_data, 'preprocessed', all_infiles[i_file])\n",
    "\n",
    "ds = pp.import_ds_lazy(infile, start_end_year=None, format_lon='east_west',\n",
    "                      kwrgs_NaN_handling = {'missing_data_ts_to_nan':True})\n",
    "\n",
    "pp.detrend_anom_ncdf3D(ds, outfile, loadleap=False, detrend=False, anomaly=True,\n",
    "                        apply_fft=True, n_harmonics=6, encoding={})"
   ]
  },
  {
   "cell_type": "code",
   "execution_count": null,
   "id": "f77a5ac6-8901-43ac-ba05-c176df75ba26",
   "metadata": {},
   "outputs": [],
   "source": []
  }
 ],
 "metadata": {
  "kernelspec": {
   "display_name": "test_env",
   "language": "python",
   "name": "01_pandas1.3"
  },
  "language_info": {
   "codemirror_mode": {
    "name": "ipython",
    "version": 3
   },
   "file_extension": ".py",
   "mimetype": "text/x-python",
   "name": "python",
   "nbconvert_exporter": "python",
   "pygments_lexer": "ipython3",
   "version": "3.10.5"
  }
 },
 "nbformat": 4,
 "nbformat_minor": 5
}
