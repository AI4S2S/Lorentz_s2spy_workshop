{
 "cells": [
  {
   "cell_type": "code",
   "execution_count": null,
   "id": "dc838fe0-6ebc-441b-97dc-2c4be8d7516e",
   "metadata": {},
   "outputs": [
    {
     "name": "stdout",
     "output_type": "stream",
     "text": [
      "applying rolling mean, beware: memory intensive\n"
     ]
    }
   ],
   "source": [
    "import os\n",
    "import preprocessing as pp\n",
    "import utils\n",
    "\n",
    "path_obs_data = '/data/volume_2/observational/'\n",
    "infile = os.path.join(path_obs_data, 'raw', 'era5_sst_1959-2021_1_12_daily_2.0deg.nc')\n",
    "outfile = os.path.join(path_obs_data, 'preprocessed', 'era5_sst_1959-2021_1_12_daily_2.0deg.nc')\n",
    "\n",
    "\n",
    "pp.detrend_anom_ncdf3D(infile, outfile, loadleap=False, detrend=False, anomaly=True,\n",
    "                        apply_fft=True, n_harmonics=6, encoding={})"
   ]
  },
  {
   "cell_type": "code",
   "execution_count": null,
   "id": "f77a5ac6-8901-43ac-ba05-c176df75ba26",
   "metadata": {},
   "outputs": [],
   "source": []
  }
 ],
 "metadata": {
  "kernelspec": {
   "display_name": "test_env",
   "language": "python",
   "name": "01_pandas1.3"
  },
  "language_info": {
   "codemirror_mode": {
    "name": "ipython",
    "version": 3
   },
   "file_extension": ".py",
   "mimetype": "text/x-python",
   "name": "python",
   "nbconvert_exporter": "python",
   "pygments_lexer": "ipython3",
   "version": "3.10.5"
  }
 },
 "nbformat": 4,
 "nbformat_minor": 5
}
